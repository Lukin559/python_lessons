{
  "nbformat": 4,
  "nbformat_minor": 0,
  "metadata": {
    "colab": {
      "name": "17.12.2020.ipynb",
      "provenance": [],
      "collapsed_sections": []
    },
    "kernelspec": {
      "name": "python3",
      "display_name": "Python 3"
    }
  },
  "cells": [
    {
      "cell_type": "markdown",
      "metadata": {
        "id": "xHWpGqbZFVKf"
      },
      "source": [
        "# Reduce\r\n"
      ]
    },
    {
      "cell_type": "code",
      "metadata": {
        "colab": {
          "base_uri": "https://localhost:8080/"
        },
        "id": "oQQgKBlWFVl7",
        "outputId": "1cda8b44-ec10-4b6a-928d-65256a354b49"
      },
      "source": [
        "from functools import reduce\r\n",
        "sum = reduce(lambda a, x: a + x, [1, 2, 3, 4])\r\n",
        "sum\r\n",
        "# s1 = list(map(fn, object))"
      ],
      "execution_count": 9,
      "outputs": [
        {
          "output_type": "execute_result",
          "data": {
            "text/plain": [
              "10"
            ]
          },
          "metadata": {
            "tags": []
          },
          "execution_count": 9
        }
      ]
    },
    {
      "cell_type": "markdown",
      "metadata": {
        "id": "0WDWL3CQGI4f"
      },
      "source": [
        "# Filter\r\n"
      ]
    },
    {
      "cell_type": "code",
      "metadata": {
        "colab": {
          "base_uri": "https://localhost:8080/"
        },
        "id": "KdiiXs7TTLOn",
        "outputId": "ef28427f-ce2f-4fb3-a98e-35eea974e135"
      },
      "source": [
        "print('6'.isdigit())\r\n",
        "print('two'.isdigit())"
      ],
      "execution_count": 11,
      "outputs": [
        {
          "output_type": "stream",
          "text": [
            "True\n",
            "False\n"
          ],
          "name": "stdout"
        }
      ]
    },
    {
      "cell_type": "code",
      "metadata": {
        "colab": {
          "base_uri": "https://localhost:8080/"
        },
        "id": "iEbA6CduGK3d",
        "outputId": "c67444b0-a5d1-4d59-fa4f-0caf270d7620"
      },
      "source": [
        "list_of_strings = ['one', 'two', 'list', '', 'dict', '100', '1', '50']\r\n",
        "list(filter(str.isdigit, list_of_strings))"
      ],
      "execution_count": 1,
      "outputs": [
        {
          "output_type": "execute_result",
          "data": {
            "text/plain": [
              "['100', '1', '50']"
            ]
          },
          "metadata": {
            "tags": []
          },
          "execution_count": 1
        }
      ]
    },
    {
      "cell_type": "code",
      "metadata": {
        "id": "nFu3l3z9G3w9"
      },
      "source": [
        "import copy\r\n",
        "a = [1, 2, 4]\r\n",
        "\r\n",
        "def sum_of_all(l: list) -> list:\r\n",
        "  sum = 0\r\n",
        "  for i in a:\r\n",
        "    sum += i\r\n",
        "  a.append(sum)\r\n",
        "  return a\r\n",
        "\r\n",
        "def sum_of_all__functional(l: list) -> list:\r\n",
        "  sum = 0\r\n",
        "  b = copy.copy(a)\r\n",
        "  for i in a:\r\n",
        "    sum += i\r\n",
        "  b.append(sum)\r\n",
        "  return b"
      ],
      "execution_count": 20,
      "outputs": []
    },
    {
      "cell_type": "code",
      "metadata": {
        "colab": {
          "base_uri": "https://localhost:8080/"
        },
        "id": "BX_ZFnfdUX12",
        "outputId": "6463c8f3-547e-4fed-98da-0f380e5aa976"
      },
      "source": [
        "sum_of_all__functional(a)"
      ],
      "execution_count": 21,
      "outputs": [
        {
          "output_type": "execute_result",
          "data": {
            "text/plain": [
              "[1, 2, 4, 7]"
            ]
          },
          "metadata": {
            "tags": []
          },
          "execution_count": 21
        }
      ]
    },
    {
      "cell_type": "code",
      "metadata": {
        "colab": {
          "base_uri": "https://localhost:8080/"
        },
        "id": "DNbB3rFXUbbG",
        "outputId": "b37fdcba-ae6e-407d-ba04-915da25eb7ac"
      },
      "source": [
        "a"
      ],
      "execution_count": 22,
      "outputs": [
        {
          "output_type": "execute_result",
          "data": {
            "text/plain": [
              "[1, 2, 4]"
            ]
          },
          "metadata": {
            "tags": []
          },
          "execution_count": 22
        }
      ]
    },
    {
      "cell_type": "code",
      "metadata": {
        "id": "UYkGkDnWUgEC"
      },
      "source": [
        ""
      ],
      "execution_count": null,
      "outputs": []
    }
  ]
}