{
  "nbformat": 4,
  "nbformat_minor": 0,
  "metadata": {
    "colab": {
      "name": "hw.ipynb",
      "provenance": [],
      "collapsed_sections": []
    },
    "kernelspec": {
      "name": "python3",
      "display_name": "Python 3"
    }
  },
  "cells": [
    {
      "cell_type": "code",
      "metadata": {
        "colab": {
          "base_uri": "https://localhost:8080/"
        },
        "id": "vYHMV-KxfN7d",
        "outputId": "5b673144-8030-4b2c-f9b7-cd0eb3299246"
      },
      "source": [
        "# 1. Переписать с reduce\r\n",
        "sentences = ['капитан джек воробей',\r\n",
        "             'капитан дальнего плавания',\r\n",
        "             'ваша лодка готова, капитан']\r\n",
        "\r\n",
        "cap_count = 0\r\n",
        "for sentence in sentences:\r\n",
        "    cap_count += sentence.count('капитан')\r\n",
        "\r\n",
        "cap_count"
      ],
      "execution_count": 2,
      "outputs": [
        {
          "output_type": "execute_result",
          "data": {
            "text/plain": [
              "3"
            ]
          },
          "metadata": {
            "tags": []
          },
          "execution_count": 2
        }
      ]
    },
    {
      "cell_type": "code",
      "metadata": {
        "colab": {
          "base_uri": "https://localhost:8080/"
        },
        "id": "yL_DiM4lfUfs",
        "outputId": "b63f5dc6-51df-4036-d389-e7a96248cdfb"
      },
      "source": [
        "# метод строки, который считает кол-во вхождений подстроки\r\n",
        "'шиншилла'.count('ш')"
      ],
      "execution_count": 5,
      "outputs": [
        {
          "output_type": "execute_result",
          "data": {
            "text/plain": [
              "2"
            ]
          },
          "metadata": {
            "tags": []
          },
          "execution_count": 5
        }
      ]
    },
    {
      "cell_type": "code",
      "metadata": {
        "id": "E2jwc6E6fboe"
      },
      "source": [
        "# 2. Пользователь делает вклад в размере n рублей сроком на years лет \r\n",
        "# под 10% годовых (каждый год размер его вклада увеличивается на 10%.\r\n",
        "# Эти деньги прибавляются к сумме вклада, и на них в следующем году тоже будут проценты).\r\n",
        "# Написать функцию bank, принимающая аргументы n и years, и возвращающую сумму, \r\n",
        "# которая будет на счету пользователя."
      ],
      "execution_count": null,
      "outputs": []
    },
    {
      "cell_type": "code",
      "metadata": {
        "id": "pJa5l3V-nKuX"
      },
      "source": [
        "# 3. https://pythontutor.ru/lessons/for_loop/problems/lost_card/"
      ],
      "execution_count": null,
      "outputs": []
    },
    {
      "cell_type": "code",
      "metadata": {
        "id": "KFT_vvbYrYHz"
      },
      "source": [
        "# 4. Напишите функцию, которая принимает на вход список с именами людей и\r\n",
        "# возвращает новый список с именами, которые начинаются на гласную букву."
      ],
      "execution_count": null,
      "outputs": []
    }
  ]
}