{
  "nbformat": 4,
  "nbformat_minor": 0,
  "metadata": {
    "colab": {
      "name": "lessson_1.ipynb",
      "provenance": [],
      "collapsed_sections": []
    },
    "kernelspec": {
      "name": "python3",
      "display_name": "Python 3"
    }
  },
  "cells": [
    {
      "cell_type": "markdown",
      "metadata": {
        "id": "rTyAv6nVfCKr",
        "colab_type": "text"
      },
      "source": [
        "# Типы данных"
      ]
    },
    {
      "cell_type": "markdown",
      "metadata": {
        "id": "X2GQByJdHrDh",
        "colab_type": "text"
      },
      "source": [
        "**Numbers** (числа) - представлены int(целочисленный тип), float(числа с плавающей точкой)\n",
        "\n",
        "**Strings** (строки)\n",
        "\n",
        "**Lists** (списки)\n",
        "\n",
        "**Dictionaries** (словари)\n",
        "\n",
        "**Tuples** (кортежи)\n",
        "\n",
        "**Sets** (множества)\n",
        "\n",
        "**Boolean** (логический тип данных)"
      ]
    },
    {
      "cell_type": "markdown",
      "metadata": {
        "id": "ResDs5AvIEyW",
        "colab_type": "text"
      },
      "source": [
        "## List"
      ]
    },
    {
      "cell_type": "code",
      "metadata": {
        "id": "2vxKRQKl4vWw",
        "colab_type": "code",
        "colab": {}
      },
      "source": [
        "# list - список\n",
        "# по сути просто некий набор объектов\n",
        "a = [1, 4, 6, 7]"
      ],
      "execution_count": 0,
      "outputs": []
    },
    {
      "cell_type": "code",
      "metadata": {
        "id": "9sBSGgvm8Lcn",
        "colab_type": "code",
        "outputId": "82aa1634-72cf-494b-c2b8-1314387ff357",
        "colab": {
          "base_uri": "https://localhost:8080/",
          "height": 34
        }
      },
      "source": [
        "b = [1, '5', 7]\n",
        "\n",
        "# сложение списков\n",
        "c = a + b\n",
        "print(c)"
      ],
      "execution_count": 0,
      "outputs": [
        {
          "output_type": "stream",
          "text": [
            "[1, 4, 6, 7, 1, '5', 7]\n"
          ],
          "name": "stdout"
        }
      ]
    },
    {
      "cell_type": "code",
      "metadata": {
        "id": "9N0lIWWYBgGO",
        "colab_type": "code",
        "outputId": "8735b464-79d8-441b-e902-d517a4408548",
        "colab": {
          "base_uri": "https://localhost:8080/",
          "height": 34
        }
      },
      "source": [
        "# доступ к элементам списка по индексу\n",
        "c[0]"
      ],
      "execution_count": 0,
      "outputs": [
        {
          "output_type": "execute_result",
          "data": {
            "text/plain": [
              "1"
            ]
          },
          "metadata": {
            "tags": []
          },
          "execution_count": 84
        }
      ]
    },
    {
      "cell_type": "code",
      "metadata": {
        "id": "PBJ-ysNYG9D4",
        "colab_type": "code",
        "outputId": "79289832-9d18-40ab-a489-663c1d8a343e",
        "colab": {
          "base_uri": "https://localhost:8080/",
          "height": 34
        }
      },
      "source": [
        "c[-2]"
      ],
      "execution_count": 0,
      "outputs": [
        {
          "output_type": "execute_result",
          "data": {
            "text/plain": [
              "'5'"
            ]
          },
          "metadata": {
            "tags": []
          },
          "execution_count": 85
        }
      ]
    },
    {
      "cell_type": "code",
      "metadata": {
        "id": "-34iAWUU8k01",
        "colab_type": "code",
        "outputId": "59a00afe-6524-4f92-d27e-db57486ef52c",
        "colab": {
          "base_uri": "https://localhost:8080/",
          "height": 136
        }
      },
      "source": [
        "# итерация в цикле по списку\n",
        "for b in c:\n",
        "  print(b)"
      ],
      "execution_count": 0,
      "outputs": [
        {
          "output_type": "stream",
          "text": [
            "1\n",
            "4\n",
            "6\n",
            "7\n",
            "1\n",
            "5\n",
            "7\n"
          ],
          "name": "stdout"
        }
      ]
    },
    {
      "cell_type": "markdown",
      "metadata": {
        "id": "z9Hj1KjCIIP7",
        "colab_type": "text"
      },
      "source": [
        "## Dict"
      ]
    },
    {
      "cell_type": "code",
      "metadata": {
        "id": "rnKG23pb_8n-",
        "colab_type": "code",
        "colab": {}
      },
      "source": [
        "# dict - словарь; структура данных, представляющая собой пары ключ-значение\n",
        "d = {1: 'one', 2: 'two'}"
      ],
      "execution_count": 0,
      "outputs": []
    },
    {
      "cell_type": "code",
      "metadata": {
        "id": "G0_2AzU2ANHx",
        "colab_type": "code",
        "outputId": "e3877f30-d677-41c2-a2f8-ef271c1b92b5",
        "colab": {
          "base_uri": "https://localhost:8080/",
          "height": 34
        }
      },
      "source": [
        "d[2]"
      ],
      "execution_count": 0,
      "outputs": [
        {
          "output_type": "execute_result",
          "data": {
            "text/plain": [
              "'two'"
            ]
          },
          "metadata": {
            "tags": []
          },
          "execution_count": 88
        }
      ]
    },
    {
      "cell_type": "code",
      "metadata": {
        "id": "uh77MGHxBAc2",
        "colab_type": "code",
        "outputId": "04cfd3ff-8dd7-4ab0-e394-4e0e00744470",
        "colab": {
          "base_uri": "https://localhost:8080/",
          "height": 51
        }
      },
      "source": [
        "# по дефолту - идет итерация по ключам\n",
        "for i in d:\n",
        "  print(i)"
      ],
      "execution_count": 0,
      "outputs": [
        {
          "output_type": "stream",
          "text": [
            "1\n",
            "2\n"
          ],
          "name": "stdout"
        }
      ]
    },
    {
      "cell_type": "code",
      "metadata": {
        "id": "Deb1GKjkBKIV",
        "colab_type": "code",
        "outputId": "5b4d6f64-4d5e-4657-94ac-587486cca959",
        "colab": {
          "base_uri": "https://localhost:8080/",
          "height": 51
        }
      },
      "source": [
        "# но можно итерироваться и по значениям\n",
        "for i in d.values():\n",
        "  print(i)"
      ],
      "execution_count": 0,
      "outputs": [
        {
          "output_type": "stream",
          "text": [
            "one\n",
            "two\n"
          ],
          "name": "stdout"
        }
      ]
    },
    {
      "cell_type": "code",
      "metadata": {
        "id": "qBIjizJiBQt9",
        "colab_type": "code",
        "outputId": "d22cabe7-6770-4374-ae8d-507c849fc410",
        "colab": {
          "base_uri": "https://localhost:8080/",
          "height": 51
        }
      },
      "source": [
        "# а можно и по ключам, и по значениям\n",
        "for k, v in d.items():\n",
        "  print(f'Key - {k}, value - {v}')"
      ],
      "execution_count": 0,
      "outputs": [
        {
          "output_type": "stream",
          "text": [
            "Key - 1, value - one\n",
            "Key - 2, value - two\n"
          ],
          "name": "stdout"
        }
      ]
    },
    {
      "cell_type": "markdown",
      "metadata": {
        "id": "XMS-T4d9ILH7",
        "colab_type": "text"
      },
      "source": [
        "## Set"
      ]
    },
    {
      "cell_type": "code",
      "metadata": {
        "id": "GuA_IJqmDO9p",
        "colab_type": "code",
        "colab": {}
      },
      "source": [
        "# set - множества\n",
        "s1 = {1, 4, 4, 6}\n",
        "s2 = {1, 6}"
      ],
      "execution_count": 0,
      "outputs": []
    },
    {
      "cell_type": "code",
      "metadata": {
        "id": "IkTEZMyqDYKG",
        "colab_type": "code",
        "outputId": "aa549016-1231-4df3-d054-39509e869b85",
        "colab": {
          "base_uri": "https://localhost:8080/",
          "height": 34
        }
      },
      "source": [
        "s2 - s1"
      ],
      "execution_count": 0,
      "outputs": [
        {
          "output_type": "execute_result",
          "data": {
            "text/plain": [
              "set()"
            ]
          },
          "metadata": {
            "tags": []
          },
          "execution_count": 94
        }
      ]
    }
  ]
}