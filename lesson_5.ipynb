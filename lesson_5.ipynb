{
  "nbformat": 4,
  "nbformat_minor": 0,
  "metadata": {
    "colab": {
      "name": "lesson_5.ipynb",
      "provenance": [],
      "collapsed_sections": []
    },
    "kernelspec": {
      "name": "python3",
      "display_name": "Python 3"
    }
  },
  "cells": [
    {
      "cell_type": "markdown",
      "metadata": {
        "id": "R6eKPYRDFure",
        "colab_type": "text"
      },
      "source": [
        "## Дано положительное действительное число. Вывести его первую цифру после десятичной точки.\n",
        "\n",
        "Пример реализации со строками"
      ]
    },
    {
      "cell_type": "code",
      "metadata": {
        "id": "KV8AxlMWFFT3",
        "colab_type": "code",
        "colab": {
          "base_uri": "https://localhost:8080/",
          "height": 34
        },
        "outputId": "becb5e37-0109-4644-bd6a-343cdb6668da"
      },
      "source": [
        "x = 34.5222\n",
        "x_str = str(x)\n",
        "print(x_str)"
      ],
      "execution_count": 1,
      "outputs": [
        {
          "output_type": "stream",
          "text": [
            "34.5222\n"
          ],
          "name": "stdout"
        }
      ]
    },
    {
      "cell_type": "code",
      "metadata": {
        "id": "dImVv3_fFVTy",
        "colab_type": "code",
        "colab": {
          "base_uri": "https://localhost:8080/",
          "height": 51
        },
        "outputId": "67affbad-aef6-4764-d14e-4672bde5d641"
      },
      "source": [
        "# 1 вариант\n",
        "x_elements = x_str.split('.')\n",
        "print(x_elements)\n",
        "print(x_elements[1][0])"
      ],
      "execution_count": 4,
      "outputs": [
        {
          "output_type": "stream",
          "text": [
            "['34', '5222']\n",
            "5\n"
          ],
          "name": "stdout"
        }
      ]
    },
    {
      "cell_type": "code",
      "metadata": {
        "id": "sw5C59GEFglt",
        "colab_type": "code",
        "colab": {
          "base_uri": "https://localhost:8080/",
          "height": 34
        },
        "outputId": "f146f991-e256-48ed-b159-7dd722b8a131"
      },
      "source": [
        "# 2 вариант\n",
        "for i in range(len(x_str)):\n",
        "  if x_str[i] == '.':\n",
        "    print(x_str[i+1])"
      ],
      "execution_count": 5,
      "outputs": [
        {
          "output_type": "stream",
          "text": [
            "5\n"
          ],
          "name": "stdout"
        }
      ]
    },
    {
      "cell_type": "code",
      "metadata": {
        "id": "DUhbf3bPGIjB",
        "colab_type": "code",
        "colab": {
          "base_uri": "https://localhost:8080/",
          "height": 136
        },
        "outputId": "387045a4-54aa-4e32-846b-1f7e2fe196e3"
      },
      "source": [
        "# Пример прохождения циклом for по индексам\n",
        "for i in range(len(x_str)):\n",
        "  print(f'Индекс: {i} - Значение: {x_str[i]}')"
      ],
      "execution_count": 6,
      "outputs": [
        {
          "output_type": "stream",
          "text": [
            "Индекс: 0 - Значение: 3\n",
            "Индекс: 1 - Значение: 4\n",
            "Индекс: 2 - Значение: .\n",
            "Индекс: 3 - Значение: 5\n",
            "Индекс: 4 - Значение: 2\n",
            "Индекс: 5 - Значение: 2\n",
            "Индекс: 6 - Значение: 2\n"
          ],
          "name": "stdout"
        }
      ]
    }
  ]
}