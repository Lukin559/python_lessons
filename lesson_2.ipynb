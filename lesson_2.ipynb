{
  "nbformat": 4,
  "nbformat_minor": 0,
  "metadata": {
    "colab": {
      "name": "lesson_2.ipynb",
      "provenance": [],
      "collapsed_sections": []
    },
    "kernelspec": {
      "name": "python3",
      "display_name": "Python 3"
    }
  },
  "cells": [
    {
      "cell_type": "markdown",
      "metadata": {
        "id": "T1V1zc4_uAW7",
        "colab_type": "text"
      },
      "source": [
        "# Списки"
      ]
    },
    {
      "cell_type": "markdown",
      "metadata": {
        "id": "KUlB89l5uHjV",
        "colab_type": "text"
      },
      "source": [
        "## Методы списков"
      ]
    },
    {
      "cell_type": "code",
      "metadata": {
        "id": "XRwK3qqht0I9",
        "colab_type": "code",
        "colab": {
          "base_uri": "https://localhost:8080/",
          "height": 34
        },
        "outputId": "3baa13f9-2c3c-4ce5-e734-988785694f5f"
      },
      "source": [
        "# list\n",
        "a = [1, 4, 5, 6, 7]\n",
        "# append\n",
        "a.append(10)\n",
        "print(a)"
      ],
      "execution_count": 23,
      "outputs": [
        {
          "output_type": "stream",
          "text": [
            "[1, 4, 5, 6, 7, 10]\n"
          ],
          "name": "stdout"
        }
      ]
    },
    {
      "cell_type": "code",
      "metadata": {
        "id": "HnMUffryt0Lv",
        "colab_type": "code",
        "colab": {
          "base_uri": "https://localhost:8080/",
          "height": 34
        },
        "outputId": "c4dedbab-a7d4-44f5-fa48-9be1fca45f05"
      },
      "source": [
        "# extend\n",
        "a = [1, 2, 3]\n",
        "b = [4, 5, 6]\n",
        "a.extend(b)\n",
        "a"
      ],
      "execution_count": 24,
      "outputs": [
        {
          "output_type": "execute_result",
          "data": {
            "text/plain": [
              "[1, 2, 3, 4, 5, 6]"
            ]
          },
          "metadata": {
            "tags": []
          },
          "execution_count": 24
        }
      ]
    },
    {
      "cell_type": "code",
      "metadata": {
        "id": "j9nczkcODnvB",
        "colab_type": "code",
        "colab": {
          "base_uri": "https://localhost:8080/",
          "height": 34
        },
        "outputId": "f040c2cb-88a2-48cb-c1eb-de393f849fbe"
      },
      "source": [
        "# insert\n",
        "a = [1, 2, 3]\n",
        "a.insert(1, 100)\n",
        "a"
      ],
      "execution_count": 26,
      "outputs": [
        {
          "output_type": "execute_result",
          "data": {
            "text/plain": [
              "[1, 100, 2, 3]"
            ]
          },
          "metadata": {
            "tags": []
          },
          "execution_count": 26
        }
      ]
    },
    {
      "cell_type": "code",
      "metadata": {
        "id": "sySXlRGpDnyq",
        "colab_type": "code",
        "colab": {
          "base_uri": "https://localhost:8080/",
          "height": 34
        },
        "outputId": "b1a3e659-c67f-4b5c-f958-76504b2f139d"
      },
      "source": [
        "# remove\n",
        "a = [1, 2, 3]\n",
        "a.remove(3)\n",
        "a"
      ],
      "execution_count": 35,
      "outputs": [
        {
          "output_type": "execute_result",
          "data": {
            "text/plain": [
              "[1, 2]"
            ]
          },
          "metadata": {
            "tags": []
          },
          "execution_count": 35
        }
      ]
    },
    {
      "cell_type": "code",
      "metadata": {
        "id": "QAIPm53WEspP",
        "colab_type": "code",
        "colab": {}
      },
      "source": [
        "b = a.remove(2)\n",
        "b"
      ],
      "execution_count": 0,
      "outputs": []
    },
    {
      "cell_type": "code",
      "metadata": {
        "id": "BB6a75y1EMxA",
        "colab_type": "code",
        "colab": {
          "base_uri": "https://localhost:8080/",
          "height": 34
        },
        "outputId": "2cd19f1b-0167-4a67-b273-fbfa792b3548"
      },
      "source": [
        "# pop\n",
        "a = [1, 2, 3]\n",
        "b = a.pop(0)\n",
        "a, b"
      ],
      "execution_count": 37,
      "outputs": [
        {
          "output_type": "execute_result",
          "data": {
            "text/plain": [
              "([2, 3], 1)"
            ]
          },
          "metadata": {
            "tags": []
          },
          "execution_count": 37
        }
      ]
    },
    {
      "cell_type": "code",
      "metadata": {
        "id": "lgz2Z37iDn6x",
        "colab_type": "code",
        "colab": {
          "base_uri": "https://localhost:8080/",
          "height": 34
        },
        "outputId": "de8b3445-e7a9-451a-94bc-d3b66f6512c1"
      },
      "source": [
        "# index\n",
        "a = [4, 7, 13, 13, 89]\n",
        "a.index(13)"
      ],
      "execution_count": 42,
      "outputs": [
        {
          "output_type": "execute_result",
          "data": {
            "text/plain": [
              "2"
            ]
          },
          "metadata": {
            "tags": []
          },
          "execution_count": 42
        }
      ]
    },
    {
      "cell_type": "code",
      "metadata": {
        "id": "dwqflbUlDn3t",
        "colab_type": "code",
        "colab": {
          "base_uri": "https://localhost:8080/",
          "height": 34
        },
        "outputId": "85ed28b8-c098-48a3-b6be-38fa9508e0b1"
      },
      "source": [
        "# count\n",
        "a = [5, 7, 8, 9, 9, 8, 9]\n",
        "a.count(8)"
      ],
      "execution_count": 44,
      "outputs": [
        {
          "output_type": "execute_result",
          "data": {
            "text/plain": [
              "2"
            ]
          },
          "metadata": {
            "tags": []
          },
          "execution_count": 44
        }
      ]
    },
    {
      "cell_type": "code",
      "metadata": {
        "id": "_KWBMzWQDn2q",
        "colab_type": "code",
        "colab": {
          "base_uri": "https://localhost:8080/",
          "height": 34
        },
        "outputId": "ef043352-f934-44b6-834e-47f16b386f43"
      },
      "source": [
        "# reverse\n",
        "a = [1, 2, 3, 4, 5]\n",
        "a.reverse()\n",
        "a"
      ],
      "execution_count": 46,
      "outputs": [
        {
          "output_type": "execute_result",
          "data": {
            "text/plain": [
              "[5, 4, 3, 2, 1]"
            ]
          },
          "metadata": {
            "tags": []
          },
          "execution_count": 46
        }
      ]
    },
    {
      "cell_type": "markdown",
      "metadata": {
        "id": "daZa6lVsuL-p",
        "colab_type": "text"
      },
      "source": [
        "## Генераторы"
      ]
    },
    {
      "cell_type": "code",
      "metadata": {
        "id": "uRDO764Rt0Rm",
        "colab_type": "code",
        "colab": {
          "base_uri": "https://localhost:8080/",
          "height": 34
        },
        "outputId": "2bca7647-4d69-4726-c6c9-0a92984182d3"
      },
      "source": [
        "b = []\n",
        "for i in range(5):\n",
        "  b.append(i)\n",
        "\n",
        "print(b)"
      ],
      "execution_count": 47,
      "outputs": [
        {
          "output_type": "stream",
          "text": [
            "[0, 1, 2, 3, 4]\n"
          ],
          "name": "stdout"
        }
      ]
    },
    {
      "cell_type": "code",
      "metadata": {
        "id": "Lg9yLxLtt0mc",
        "colab_type": "code",
        "colab": {
          "base_uri": "https://localhost:8080/",
          "height": 34
        },
        "outputId": "e4a16b97-2591-45b9-c064-e5e4821b0392"
      },
      "source": [
        "b = [x*10 for x in range(5)]\n",
        "b"
      ],
      "execution_count": 51,
      "outputs": [
        {
          "output_type": "execute_result",
          "data": {
            "text/plain": [
              "[0, 10, 20, 30, 40]"
            ]
          },
          "metadata": {
            "tags": []
          },
          "execution_count": 51
        }
      ]
    },
    {
      "cell_type": "markdown",
      "metadata": {
        "id": "24YAt0klt1QU",
        "colab_type": "text"
      },
      "source": [
        "# Задачи\n",
        "\n",
        "1. Сложить все цифры целого числа\n",
        "\n",
        "2. Дан список a = [1, 2, 3, 7, 78, 0, -9, 13, 45]. Вывести все элементы, меньше 10.\n",
        "\n",
        "3. Написать программу, которая выводит только четные числа в диапазоне от 1 до 189. \n"
      ]
    }
  ]
}