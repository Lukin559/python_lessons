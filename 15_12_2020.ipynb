{
  "nbformat": 4,
  "nbformat_minor": 0,
  "metadata": {
    "colab": {
      "name": "15.12.2020.ipynb",
      "provenance": [],
      "collapsed_sections": []
    },
    "kernelspec": {
      "name": "python3",
      "display_name": "Python 3"
    }
  },
  "cells": [
    {
      "cell_type": "markdown",
      "metadata": {
        "id": "93E1atjAA4pR"
      },
      "source": [
        "## Лямбда - функции"
      ]
    },
    {
      "cell_type": "code",
      "metadata": {
        "id": "DyK8itrPA57n"
      },
      "source": [
        "import math\r\n",
        "from typing import Union"
      ],
      "execution_count": 1,
      "outputs": []
    },
    {
      "cell_type": "code",
      "metadata": {
        "id": "aCgEAhi7_jTm"
      },
      "source": [
        "def square_root(x: int) -> float:\r\n",
        "  return math.sqrt(x)"
      ],
      "execution_count": null,
      "outputs": []
    },
    {
      "cell_type": "code",
      "metadata": {
        "colab": {
          "base_uri": "https://localhost:8080/"
        },
        "id": "QvFKn1_M_wyA",
        "outputId": "e14bf862-1bca-4762-f894-a2318afdabaa"
      },
      "source": [
        "square_root(4)"
      ],
      "execution_count": null,
      "outputs": [
        {
          "output_type": "execute_result",
          "data": {
            "text/plain": [
              "2.0"
            ]
          },
          "metadata": {
            "tags": []
          },
          "execution_count": 5
        }
      ]
    },
    {
      "cell_type": "code",
      "metadata": {
        "id": "0E6dYXwA_11q"
      },
      "source": [
        "lambda_sqrt = lambda x: math.sqrt(x)"
      ],
      "execution_count": null,
      "outputs": []
    },
    {
      "cell_type": "code",
      "metadata": {
        "colab": {
          "base_uri": "https://localhost:8080/"
        },
        "id": "yvoazf-LAHSr",
        "outputId": "c8f0166d-1bc0-407c-97aa-4bd55d6d2cda"
      },
      "source": [
        "lambda_sqrt(4)"
      ],
      "execution_count": null,
      "outputs": [
        {
          "output_type": "execute_result",
          "data": {
            "text/plain": [
              "2.0"
            ]
          },
          "metadata": {
            "tags": []
          },
          "execution_count": 7
        }
      ]
    },
    {
      "cell_type": "code",
      "metadata": {
        "id": "nGCFCzNaAGJS"
      },
      "source": [
        "def sum_of_two(x, y):\r\n",
        "  return x + y"
      ],
      "execution_count": null,
      "outputs": []
    },
    {
      "cell_type": "code",
      "metadata": {
        "colab": {
          "base_uri": "https://localhost:8080/"
        },
        "id": "8X41GDCZAXUC",
        "outputId": "b9364f92-710b-4c27-f5bb-f457075e30fc"
      },
      "source": [
        "sum_of_two_lambda = lambda x, y : x + y\r\n",
        "sum_of_two_lambda(3, 4)"
      ],
      "execution_count": null,
      "outputs": [
        {
          "output_type": "execute_result",
          "data": {
            "text/plain": [
              "7"
            ]
          },
          "metadata": {
            "tags": []
          },
          "execution_count": 9
        }
      ]
    },
    {
      "cell_type": "markdown",
      "metadata": {
        "id": "z2VOBI_vBJsU"
      },
      "source": [
        "## Zip"
      ]
    },
    {
      "cell_type": "code",
      "metadata": {
        "colab": {
          "base_uri": "https://localhost:8080/"
        },
        "id": "XNuxFuWpAfYj",
        "outputId": "8ae5ac0e-a630-4fba-cb76-2872f084b652"
      },
      "source": [
        "a = [1, 2, 3] # ключи\r\n",
        "b = ['a', 'b', 'c'] # значения\r\n",
        "c = {}\r\n",
        "for i in range(len(a)):\r\n",
        "  c[a[i]] = b[i]\r\n",
        "c"
      ],
      "execution_count": null,
      "outputs": [
        {
          "output_type": "execute_result",
          "data": {
            "text/plain": [
              "{1: 'a', 2: 'b', 3: 'c'}"
            ]
          },
          "metadata": {
            "tags": []
          },
          "execution_count": 13
        }
      ]
    },
    {
      "cell_type": "code",
      "metadata": {
        "colab": {
          "base_uri": "https://localhost:8080/"
        },
        "id": "OIwGtSymFCe7",
        "outputId": "3415f474-3da5-4489-a241-75da341a6182"
      },
      "source": [
        "for k in zip(a, b):\r\n",
        "  print(k[0], k[1])"
      ],
      "execution_count": null,
      "outputs": [
        {
          "output_type": "stream",
          "text": [
            "1 a\n",
            "2 b\n",
            "3 c\n"
          ],
          "name": "stdout"
        }
      ]
    },
    {
      "cell_type": "code",
      "metadata": {
        "colab": {
          "base_uri": "https://localhost:8080/"
        },
        "id": "ZAFs6CulD1QM",
        "outputId": "c35e1ad9-3d83-4424-84b5-eab5ba6bc8f8"
      },
      "source": [
        "for k, v in zip(a, b):\r\n",
        "  print(k, v)"
      ],
      "execution_count": null,
      "outputs": [
        {
          "output_type": "stream",
          "text": [
            "1 a\n",
            "2 b\n",
            "3 c\n"
          ],
          "name": "stdout"
        }
      ]
    },
    {
      "cell_type": "code",
      "metadata": {
        "colab": {
          "base_uri": "https://localhost:8080/"
        },
        "id": "r7kyaimfERGM",
        "outputId": "0f2bf413-0007-4d3b-84d9-a37d6afbb1d7"
      },
      "source": [
        "c = {}\r\n",
        "for k, v in zip(a, b):\r\n",
        "  c[k] = v\r\n",
        "c"
      ],
      "execution_count": null,
      "outputs": [
        {
          "output_type": "execute_result",
          "data": {
            "text/plain": [
              "{1: 'a', 2: 'b', 3: 'c'}"
            ]
          },
          "metadata": {
            "tags": []
          },
          "execution_count": 22
        }
      ]
    },
    {
      "cell_type": "code",
      "metadata": {
        "colab": {
          "base_uri": "https://localhost:8080/"
        },
        "id": "uCzqbuQ6Ejcj",
        "outputId": "4052be7c-b9a7-4182-878b-3f6bced292e9"
      },
      "source": [
        "d = [1, 4, 5, 6]\r\n",
        "e = [1, 2]\r\n",
        "t = [1, 4, 5]\r\n",
        "\r\n",
        "for i, j, n in zip(d, e, t):\r\n",
        "  print(i, j, n)"
      ],
      "execution_count": null,
      "outputs": [
        {
          "output_type": "stream",
          "text": [
            "1 1 1\n",
            "4 2 4\n"
          ],
          "name": "stdout"
        }
      ]
    },
    {
      "cell_type": "markdown",
      "metadata": {
        "id": "FxOevCYxF4Kx"
      },
      "source": [
        "## Map"
      ]
    },
    {
      "cell_type": "code",
      "metadata": {
        "colab": {
          "base_uri": "https://localhost:8080/"
        },
        "id": "KrlWf1GJFXsY",
        "outputId": "585ef892-ec5b-4376-824a-326120cda70f"
      },
      "source": [
        "list_str = ['1', '2', '3']\r\n",
        "# [1, 2, 3]\r\n",
        "\r\n",
        "list1=[]\r\n",
        "for i in list_str:\r\n",
        "  list1.append(int(i))\r\n",
        "list1"
      ],
      "execution_count": 4,
      "outputs": [
        {
          "output_type": "execute_result",
          "data": {
            "text/plain": [
              "[1, 2, 3]"
            ]
          },
          "metadata": {
            "tags": []
          },
          "execution_count": 4
        }
      ]
    },
    {
      "cell_type": "code",
      "metadata": {
        "colab": {
          "base_uri": "https://localhost:8080/"
        },
        "id": "B5ULRP98YaDo",
        "outputId": "56620d2a-a94c-4152-d634-0405490c88f1"
      },
      "source": [
        "int('1')\r\n",
        "'H'.lower()"
      ],
      "execution_count": 7,
      "outputs": [
        {
          "output_type": "execute_result",
          "data": {
            "text/plain": [
              "1"
            ]
          },
          "metadata": {
            "tags": []
          },
          "execution_count": 7
        }
      ]
    },
    {
      "cell_type": "code",
      "metadata": {
        "colab": {
          "base_uri": "https://localhost:8080/"
        },
        "id": "qguqCmHoGdlD",
        "outputId": "f918d448-6f6a-413b-de09-cd32572f4700"
      },
      "source": [
        "new_list = list(map(int, list_str))\r\n",
        "new_list"
      ],
      "execution_count": 5,
      "outputs": [
        {
          "output_type": "execute_result",
          "data": {
            "text/plain": [
              "[1, 2, 3]"
            ]
          },
          "metadata": {
            "tags": []
          },
          "execution_count": 5
        }
      ]
    },
    {
      "cell_type": "code",
      "metadata": {
        "id": "j9VLd0aaISDV",
        "colab": {
          "base_uri": "https://localhost:8080/"
        },
        "outputId": "1f59e5dd-39a8-4358-ec3d-f0b1e2f8a4a7"
      },
      "source": [
        "new_list = list(map(lambda x: x+'+', list_str))\r\n",
        "new_list"
      ],
      "execution_count": 6,
      "outputs": [
        {
          "output_type": "execute_result",
          "data": {
            "text/plain": [
              "['1+', '2+', '3+']"
            ]
          },
          "metadata": {
            "tags": []
          },
          "execution_count": 6
        }
      ]
    }
  ]
}