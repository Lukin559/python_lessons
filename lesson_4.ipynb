{
  "nbformat": 4,
  "nbformat_minor": 0,
  "metadata": {
    "colab": {
      "name": "lesson_4.ipynb",
      "provenance": [],
      "collapsed_sections": []
    },
    "kernelspec": {
      "name": "python3",
      "display_name": "Python 3"
    }
  },
  "cells": [
    {
      "cell_type": "markdown",
      "metadata": {
        "id": "fVu1uf6mNKcf",
        "colab_type": "text"
      },
      "source": [
        "# Вывести самое длинное и самое короткое слово из списка."
      ]
    },
    {
      "cell_type": "code",
      "metadata": {
        "id": "sRSe_K_bNM8B",
        "colab_type": "code",
        "colab": {
          "base_uri": "https://localhost:8080/",
          "height": 34
        },
        "outputId": "fa512137-e7d3-44b7-f7dc-3108abf9149f"
      },
      "source": [
        "# пример обработки ввода\n",
        "a = ['мем', '5', 'котейка', 'пицца', 'программа', 6]\n",
        "for item in a:\n",
        "  if not isinstance(item, str):\n",
        "    print('Некорректный ввод')"
      ],
      "execution_count": 1,
      "outputs": [
        {
          "output_type": "stream",
          "text": [
            "Некорректный ввод\n"
          ],
          "name": "stdout"
        }
      ]
    },
    {
      "cell_type": "code",
      "metadata": {
        "id": "ulHYm6d4NXfb",
        "colab_type": "code",
        "colab": {
          "base_uri": "https://localhost:8080/",
          "height": 34
        },
        "outputId": "d1230e87-a5a6-4a31-fc10-e3952a92ee9a"
      },
      "source": [
        "input_list= ['мем', 'котейка', 'пицца', 'программа']\n",
        "# вычисляем длины слов в списке, заносим их в другой список с помощи \"генератора\"\n",
        "item_len_list = [len(x) for x in input_list]\n",
        "print(item_len_list)"
      ],
      "execution_count": 14,
      "outputs": [
        {
          "output_type": "stream",
          "text": [
            "[3, 7, 5, 9]\n"
          ],
          "name": "stdout"
        }
      ]
    },
    {
      "cell_type": "code",
      "metadata": {
        "id": "m3nqRQlaQs_9",
        "colab_type": "code",
        "colab": {}
      },
      "source": [
        "# вычисляем мин и макс длину слов\n",
        "min_len = min(item_len_list)\n",
        "max_len = max(item_len_list)\n",
        "\n",
        "# выбираем индексы слов с мин и макс длиной\n",
        "min_index = item_len_list.index(min_len)\n",
        "max_index = item_len_list.index(max_len)"
      ],
      "execution_count": 15,
      "outputs": []
    },
    {
      "cell_type": "code",
      "metadata": {
        "id": "1ZO0yBOSQ2f3",
        "colab_type": "code",
        "colab": {
          "base_uri": "https://localhost:8080/",
          "height": 51
        },
        "outputId": "1875212c-f84b-4bcc-e32f-ce0095d23d95"
      },
      "source": [
        "print(f'Самое короткое слово: {input_list[min_index]}')\n",
        "print(f'Самое длинное слово: {input_list[max_index]}')"
      ],
      "execution_count": 16,
      "outputs": [
        {
          "output_type": "stream",
          "text": [
            "Самое короткое слово: мем\n",
            "Самое длинное слово: программа\n"
          ],
          "name": "stdout"
        }
      ]
    },
    {
      "cell_type": "markdown",
      "metadata": {
        "id": "5d4_aOG7E3yg",
        "colab_type": "text"
      },
      "source": [
        "**Важно**\n",
        "\n",
        "Нужно понимать, что данный алгоритм не будет корректно работать в случае, когда в исходном списке есть элементы с одинаковой длиной.\n",
        "\n",
        "Почему? Потому что метод list.index() возращает индекс только первого элемента с заданным значением."
      ]
    }
  ]
}