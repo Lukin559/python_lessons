{
  "nbformat": 4,
  "nbformat_minor": 0,
  "metadata": {
    "colab": {
      "name": "lesson_7.ipynb",
      "provenance": [],
      "collapsed_sections": []
    },
    "kernelspec": {
      "name": "python3",
      "display_name": "Python 3"
    }
  },
  "cells": [
    {
      "cell_type": "markdown",
      "metadata": {
        "id": "acEeHH4KBy_b",
        "colab_type": "text"
      },
      "source": [
        "# Функции в питоне\n",
        "\n",
        "**Функция** - некая величина, изменяющаяся по определенным правилам в зависимости от значения переменной (одной или нескольких); преобразование, трансформация входных величин в выходные.\n",
        "\n",
        "В python определяется ключевым словом *def*. На вход принимает **аргументы** - они могут быть любых типов, просто переменные, несколько переменных, списки, словари, другие функции и т.д\n",
        "\n",
        "Функция может возвращать значение - для возврата используется ключевое слово *return*, а может не возвращать значение, а лишь выполнять последовательность некоторых действий.\n",
        "\n",
        "**Pep8 в функциях**\n",
        "\n",
        "Pep8 - это один из стандартов в питоне, гайд по стилю написания кода.\n",
        "В функциях, согласно pep8, следует указывать типы принимаемых на вход аргументов и типы возвращаемых значений (типы - typing)."
      ]
    },
    {
      "cell_type": "code",
      "metadata": {
        "id": "Jk7zR5SWn9Gk",
        "colab_type": "code",
        "colab": {}
      },
      "source": [
        "def double_x(x: int) -> str:\n",
        "  return str(x*2)"
      ],
      "execution_count": 48,
      "outputs": []
    },
    {
      "cell_type": "code",
      "metadata": {
        "id": "eZaaw1cwpmaH",
        "colab_type": "code",
        "colab": {
          "base_uri": "https://localhost:8080/",
          "height": 37
        },
        "outputId": "b4bb13a0-2ce8-4a41-e34b-ead8acf146e9"
      },
      "source": [
        "double_x(4)"
      ],
      "execution_count": 49,
      "outputs": [
        {
          "output_type": "execute_result",
          "data": {
            "application/vnd.google.colaboratory.intrinsic+json": {
              "type": "string"
            },
            "text/plain": [
              "'8'"
            ]
          },
          "metadata": {
            "tags": []
          },
          "execution_count": 49
        }
      ]
    },
    {
      "cell_type": "code",
      "metadata": {
        "id": "LfMEL8nFpuSW",
        "colab_type": "code",
        "colab": {}
      },
      "source": [
        "import random\n",
        "\n",
        "def get_random_number() -> int:\n",
        "  return random.choice([x for x in range(10)])"
      ],
      "execution_count": 26,
      "outputs": []
    },
    {
      "cell_type": "code",
      "metadata": {
        "id": "L_b0ldvjqHzH",
        "colab_type": "code",
        "colab": {
          "base_uri": "https://localhost:8080/",
          "height": 34
        },
        "outputId": "3a0e1192-9935-4093-eabf-83ef15da3959"
      },
      "source": [
        "get_random_number()"
      ],
      "execution_count": 31,
      "outputs": [
        {
          "output_type": "execute_result",
          "data": {
            "text/plain": [
              "6"
            ]
          },
          "metadata": {
            "tags": []
          },
          "execution_count": 31
        }
      ]
    },
    {
      "cell_type": "code",
      "metadata": {
        "id": "xkwki5PEqZWR",
        "colab_type": "code",
        "colab": {}
      },
      "source": [
        "def mult_of_numbers(x: int, y: int) -> int:\n",
        "  return x*y\n",
        "\n",
        "x = mult_of_numbers(19, 23)"
      ],
      "execution_count": 38,
      "outputs": []
    },
    {
      "cell_type": "code",
      "metadata": {
        "id": "XoYqXJOIr1Sm",
        "colab_type": "code",
        "colab": {
          "base_uri": "https://localhost:8080/",
          "height": 34
        },
        "outputId": "c9649347-44ad-4118-e145-6ee50d3d78bb"
      },
      "source": [
        "x + 90"
      ],
      "execution_count": 40,
      "outputs": [
        {
          "output_type": "execute_result",
          "data": {
            "text/plain": [
              "527"
            ]
          },
          "metadata": {
            "tags": []
          },
          "execution_count": 40
        }
      ]
    },
    {
      "cell_type": "code",
      "metadata": {
        "id": "o_3OOjnGrAtR",
        "colab_type": "code",
        "colab": {
          "base_uri": "https://localhost:8080/",
          "height": 34
        },
        "outputId": "013bc4dc-7e27-477c-fc52-f2f496b8bb2d"
      },
      "source": [
        "def get_values_from_dict(dict_: dict) -> list:\n",
        "  return dict_.values()\n",
        "\n",
        "get_values_from_dict({1: 'a', 2: 'b'})"
      ],
      "execution_count": 52,
      "outputs": [
        {
          "output_type": "execute_result",
          "data": {
            "text/plain": [
              "dict_values(['a', 'b'])"
            ]
          },
          "metadata": {
            "tags": []
          },
          "execution_count": 52
        }
      ]
    },
    {
      "cell_type": "markdown",
      "metadata": {
        "id": "KA2x3BuVE3T2",
        "colab_type": "text"
      },
      "source": [
        "## Алгоритмы\n",
        "\n",
        "**Алгоритм** - совокупность последовательных шагов, схема действий, приводящих к определенному результату.\n",
        "\n",
        "Сложность алгоритмов обычно оценивают по времени выполнения или по используемой памяти. В обоих случаях сложность зависит от размеров входных данных: массив из 100 элементов будет обработан быстрее, чем аналогичный из 1000. \n",
        "\n",
        "**Временная сложность алгоритма** -  это один из критериев оценки алгоритма. Временная сложность алгоритма обычно выражается с использованием нотации «O» большое, которое показывает насколько быстро работает алгоритм. \n",
        "\n",
        "**ВАЖНО:** «O» большое не сообщает скорость в секундах, а позволяет сравнить количество операций. Оно указывает, насколько быстро возрастает время выполнения с увеличением количества входных данных.\n",
        "\n",
        "O(n) — линейная сложность\n",
        "Такой сложностью обладает, например, алгоритм поиска наибольшего элемента в не отсортированном массиве. Нам придётся пройтись по всем n элементам массива, чтобы понять, какой из них максимальный."
      ]
    },
    {
      "cell_type": "markdown",
      "metadata": {
        "id": "kiNL0f7OGf8s",
        "colab_type": "text"
      },
      "source": [
        "## Алгоритм бинарного поиска\n"
      ]
    },
    {
      "cell_type": "code",
      "metadata": {
        "id": "rdYO84xuHGB3",
        "colab_type": "code",
        "colab": {}
      },
      "source": [
        "x - загаданное число\n",
        "seq - последовательность, в которой мы ищем число\n",
        "\n",
        "берем серединный элемент последовательности\n",
        "сравниваем элемент с загаданным числом\n",
        "если элемент равен x:\n",
        "  возвращаем элемент\n",
        "если x меньше элемента:\n",
        "  последовательность = левая часть исходной последовательности\n",
        "  повторяем\n",
        "если x больше элемент:\n",
        "  последовательность = правая часть исходной последовательности\n",
        "  повторяем\n",
        "\n",
        "P.S. когда берешь серединный элемент, дели нацело длину последовательности"
      ],
      "execution_count": null,
      "outputs": []
    },
    {
      "cell_type": "code",
      "metadata": {
        "id": "SwXg1wHutvMl",
        "colab_type": "code",
        "colab": {}
      },
      "source": [
        "# def binary_search(x, seq)"
      ],
      "execution_count": null,
      "outputs": []
    }
  ]
}