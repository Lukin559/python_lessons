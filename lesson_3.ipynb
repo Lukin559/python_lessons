{
  "nbformat": 4,
  "nbformat_minor": 0,
  "metadata": {
    "colab": {
      "name": "lesson_3.ipynb",
      "provenance": [],
      "collapsed_sections": []
    },
    "kernelspec": {
      "name": "python3",
      "display_name": "Python 3"
    }
  },
  "cells": [
    {
      "cell_type": "code",
      "metadata": {
        "id": "tLq1K4kL6C2k",
        "colab_type": "code",
        "colab": {}
      },
      "source": [
        "c = 7777\n",
        "c_sum = 0\n",
        "while c != 0:\n",
        "  ost = c % 10\n",
        "  c_sum = c_sum + ost\n",
        "  # c_sum += ost\n",
        "  c = c // 10\n",
        "\n",
        "print(c_sum)"
      ],
      "execution_count": null,
      "outputs": []
    },
    {
      "cell_type": "code",
      "metadata": {
        "id": "kFSEDUqO7SlK",
        "colab_type": "code",
        "colab": {
          "base_uri": "https://localhost:8080/",
          "height": 68
        },
        "outputId": "5053ab5e-d7db-42b6-d37b-f11c386e950c"
      },
      "source": [
        "print('a' == 'a')\n",
        "print('a' == 'A')\n",
        "print('a' != 'A')"
      ],
      "execution_count": null,
      "outputs": [
        {
          "output_type": "stream",
          "text": [
            "True\n",
            "False\n",
            "True\n"
          ],
          "name": "stdout"
        }
      ]
    },
    {
      "cell_type": "code",
      "metadata": {
        "id": "DqxBp1FaFM4b",
        "colab_type": "code",
        "colab": {
          "base_uri": "https://localhost:8080/",
          "height": 34
        },
        "outputId": "4a7d4a4e-c0f1-417d-9951-caadc678b5c4"
      },
      "source": [
        "a = 0\n",
        "while True:\n",
        "  print('Hello')\n",
        "  a += 1\n",
        "  if a == 10:\n",
        "    break\n",
        "\n",
        "print(a)"
      ],
      "execution_count": 14,
      "outputs": [
        {
          "output_type": "stream",
          "text": [
            "10\n"
          ],
          "name": "stdout"
        }
      ]
    },
    {
      "cell_type": "code",
      "metadata": {
        "id": "exCRObnjGlNW",
        "colab_type": "code",
        "colab": {
          "base_uri": "https://localhost:8080/",
          "height": 68
        },
        "outputId": "ff7d237c-65fb-4ed9-a78c-86aae06061a9"
      },
      "source": [
        "a = 9989\n",
        "print(a)\n",
        "a = str(a)\n",
        "print(a)\n",
        "print(a[2])"
      ],
      "execution_count": 18,
      "outputs": [
        {
          "output_type": "stream",
          "text": [
            "9989\n",
            "9989\n",
            "8\n"
          ],
          "name": "stdout"
        }
      ]
    },
    {
      "cell_type": "markdown",
      "metadata": {
        "id": "_H2iwqMNZ2-Q",
        "colab_type": "text"
      },
      "source": [
        "# Задачи на дом\n",
        "\n",
        "1. Реализовать алгоритм сортировки списка двумя способами - методом sort() и обычным for. На вход программа принимает два списка. На выходе - отсортированный список.\n",
        "\n",
        "  Пример входных данных: 1 7 6 7 10 9\n",
        "\n",
        "  Выходные данные: 1 6 7 7 9 10\n",
        "\n",
        "\n",
        "2. Написать программу, которая генерирует сто случайных чисел (библиотека random), заполняет ими список (см. пример ниже). Затем необходимо удалить из списка повторяющиеся значения (можно использовать преобразование в set). На выходе: 1) исходный список, вывести по 10 элементов в ряд; 2) вывести длину списка, получившегося после удаления повторяющихся значений; 3) вывести сам получившийся список.\n",
        "\n",
        "\n",
        "3. Проверить, все ли элементы списка уникальны (можно использовать преобразование в set). Если нет, то вывести такие элементы и число повторений по ним.\n",
        "\n",
        "\n",
        "4. Дан список. Вывести его в обратном порядке (метод reverse()), но так, чтобы между элементами исходного списка был еще один элемент - последовательность символов \"--$--\"\n",
        "\n",
        "\n",
        "5. Из диапазона [-100; 200] вывести только те, которые делятся на 15 с остатком 6.\n",
        "\n",
        "\n",
        "6. Даны два списка. Написать программу, которая выводит все элементы первого списка, которых нет во втором (тоже можно использовать set, см. пример ниже)\n",
        "Пример входных данных: [1, 5, 'burger', 6];    [1, 6]\n",
        "Выходные данные: [5, 'burger']\n",
        "\n",
        "\n",
        "7. Вывести самое длинное и самое короткое слово из списка.\n",
        "\n",
        "  Пример входных данных: ['мем', 'котейка', 'пицца', 'программа']\n",
        "\n",
        "  Выход: ['мем', 'программа']\n",
        "\n",
        "8. Дано положительное действительное число. Вывести его первую цифру после десятичной точки."
      ]
    },
    {
      "cell_type": "code",
      "metadata": {
        "id": "waNzF9A5Z3mS",
        "colab_type": "code",
        "colab": {
          "base_uri": "https://localhost:8080/",
          "height": 34
        },
        "outputId": "68e0d7a9-6d90-4bc5-deb5-1de19f85a3fd"
      },
      "source": [
        "# Пример 2\n",
        "import random\n",
        "a = random.choices(range(4), k=10)\n",
        "print(a)"
      ],
      "execution_count": 19,
      "outputs": [
        {
          "output_type": "stream",
          "text": [
            "[2, 3, 0, 3, 2, 3, 1, 1, 3, 3]\n"
          ],
          "name": "stdout"
        }
      ]
    },
    {
      "cell_type": "code",
      "metadata": {
        "id": "tzOrAIVIZ6dO",
        "colab_type": "code",
        "colab": {
          "base_uri": "https://localhost:8080/",
          "height": 34
        },
        "outputId": "a073b91c-0cc8-4680-d545-14b1c8ce68b0"
      },
      "source": [
        "# Пример 6\n",
        "set_1 = {'a', 'b', 'c', 'd'}\n",
        "set_2 = {'a', 'c'}\n",
        "set_1 ^ set_2"
      ],
      "execution_count": 20,
      "outputs": [
        {
          "output_type": "execute_result",
          "data": {
            "text/plain": [
              "{'b', 'd'}"
            ]
          },
          "metadata": {
            "tags": []
          },
          "execution_count": 20
        }
      ]
    }
  ]
}